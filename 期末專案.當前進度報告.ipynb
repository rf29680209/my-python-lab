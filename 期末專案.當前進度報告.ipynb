{
 "cells": [
  {
   "attachments": {},
   "cell_type": "markdown",
   "metadata": {},
   "source": [
    "# 期末專案\n",
    "## ＊主題：台大周圍UBIKE站可用車輛預測\n",
    "## ＊組員：羅正翰R07543051"
   ]
  },
  {
   "cell_type": "markdown",
   "metadata": {},
   "source": [
    "# 一、專案簡介：\n",
    "在台大校園中，大多的師生都是藉由腳踏車來代步。因此，光是在台大校園周圍，就設有7個UBIKE站。每站皆提供許多的腳踏車供大家使用。但許多時候仍供不應求，想騎腳踏車時卻撲了個空，要是能事先知道甚麼時後有車子可以騎就好了。因此，我希望能夠設計出一個神經網路能為各站的UBIKE數量作短期預測，讓我們生活上的交通，變得更加便利。"
   ]
  },
  {
   "cell_type": "markdown",
   "metadata": {},
   "source": [
    "# 二、實作方法：\n",
    "## 1.數據來源\n",
    "### (1) APP  Bus+ =>提供台大周圍各站點即時的單車數\n",
    "### (2) google =>提供台大即時天氣資訊\n",
    "## 2.數據蒐集\n",
    "### (1) 撰寫網路爬蟲，每30秒上網爬取一筆資訊\n",
    "## 3.神經網路\n",
    "### (1) 輸入 => 星期、時、分、秒、降雨機率、站別\n",
    "### (2) 輸出 => 預測之單車數量\n",
    "### (3) 模型 => 利用RNN循環式神經網路為主架構進行學習"
   ]
  },
  {
   "cell_type": "markdown",
   "metadata": {},
   "source": [
    "# 三、專案排程：\n",
    "## 4/29-5/5：網路爬蟲程式撰寫，並開始爬取資料(爬取2週)\n",
    "## 5/6-5/12：初步整理爬取資料，並繪圖作簡易分析\n",
    "## 5/13-5/19：利用前一週爬取的部分資料，建立神經網路\n",
    "## 5/20-6/2：將所有資料納入神經網路，進行訓練\n",
    "## 6/3-6/7：訓練結果討論及分析"
   ]
  },
  {
   "cell_type": "markdown",
   "metadata": {},
   "source": [
    "# 四、當前進度\n",
    "## 1.已蒐集約16000筆資料\n",
    "## 2.訓練方式\n",
    "### (1)若要求神經網路直接預測確切的單車數量，test acc約為25%。\n",
    "### (2)若利用二分法，進行第一次判斷(是否大於總數的一半)，test acc約為75%\n",
    "## 3.目前正在嘗試各項模型訓練資料\n",
    "### (1)NN (單層、多層、API、多層殘差)\n",
    "### (2)RNN LSTM / GRU (單層、多層、多層殘差)\n",
    "### (3)RNN + NN\n",
    "## 4.當前問題\n",
    "### (1)利用二分法，雖然結果可達約75%。但仔細去看神經網路的作答情形，會發現無論丟甚麼題目給他，他的答案都一樣。答案都是腳踏車數量小於總數的一半。而剛好在現實中，確實有75%的機會，腳踏車數量會小於總數的一半。\n",
    "### (2)在training data中，可以將acc訓練至近100%，但testing data的acc卻又會掉至50~60%，為嚴重的overfitting\n",
    "### (3)即使使用dropout 、 early stop 、regularizer，或更換其他模型，一樣無法使testing acc超過75%，最多都是在75%附近作小幅度振盪"
   ]
  },
  {
   "cell_type": "code",
   "execution_count": null,
   "metadata": {},
   "outputs": [],
   "source": []
  }
 ],
 "metadata": {
  "kernelspec": {
   "display_name": "Python 3",
   "language": "python",
   "name": "python3"
  },
  "language_info": {
   "codemirror_mode": {
    "name": "ipython",
    "version": 3
   },
   "file_extension": ".py",
   "mimetype": "text/x-python",
   "name": "python",
   "nbconvert_exporter": "python",
   "pygments_lexer": "ipython3",
   "version": "3.6.5"
  }
 },
 "nbformat": 4,
 "nbformat_minor": 2
}
