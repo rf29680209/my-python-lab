{
 "cells": [
  {
   "cell_type": "code",
   "execution_count": 2,
   "metadata": {},
   "outputs": [
    {
     "name": "stderr",
     "output_type": "stream",
     "text": [
      "Using TensorFlow backend.\n"
     ]
    }
   ],
   "source": [
    "import matplotlib.pyplot as plt\n",
    "import numpy as np\n",
    "from ipywidgets import interact\n",
    "from keras.datasets import mnist\n",
    "from keras.utils import np_utils"
   ]
  },
  {
   "cell_type": "markdown",
   "metadata": {},
   "source": [
    "# 資料整理"
   ]
  },
  {
   "cell_type": "code",
   "execution_count": 12,
   "metadata": {},
   "outputs": [],
   "source": [
    "#讀取數據\n",
    "(x_train,y_train),(x_test,y_test)=mnist.load_data()\n",
    "\n",
    "#更改資料格式\n",
    "x_train=x_train.reshape(60000,784)\n",
    "x_test=x_test.reshape(10000,784)\n",
    "\n",
    "#將數據歸一化\n",
    "x_train=x_train/x_train.max()\n",
    "x_test=x_test/x_test.max()\n",
    "\n",
    "y_train=np_utils.to_categorical(y_train,10)\n",
    "y_test=np_utils.to_categorical(y_test,10)"
   ]
  },
  {
   "cell_type": "markdown",
   "metadata": {},
   "source": [
    "# 建立神經網路"
   ]
  },
  {
   "cell_type": "code",
   "execution_count": 24,
   "metadata": {},
   "outputs": [],
   "source": [
    "from keras.layers import concatenate, add\n",
    "from keras.models import Model\n",
    "from keras.layers import Input\n",
    "from keras import optimizers\n",
    "from keras import losses"
   ]
  },
  {
   "cell_type": "markdown",
   "metadata": {},
   "source": [
    "# model_1 : All sigmoid"
   ]
  },
  {
   "cell_type": "code",
   "execution_count": 43,
   "metadata": {},
   "outputs": [
    {
     "name": "stdout",
     "output_type": "stream",
     "text": [
      "Epoch 1/10\n",
      "60000/60000 [==============================] - 44s 734us/step - loss: 0.4284 - acc: 0.8710\n",
      "Epoch 2/10\n",
      "60000/60000 [==============================] - 42s 705us/step - loss: 0.1980 - acc: 0.9408\n",
      "Epoch 3/10\n",
      "60000/60000 [==============================] - 48s 805us/step - loss: 0.1357 - acc: 0.9593\n",
      "Epoch 4/10\n",
      "60000/60000 [==============================] - 41s 677us/step - loss: 0.0987 - acc: 0.9702\n",
      "Epoch 5/10\n",
      "60000/60000 [==============================] - 43s 709us/step - loss: 0.0756 - acc: 0.9772\n",
      "Epoch 6/10\n",
      "60000/60000 [==============================] - 44s 729us/step - loss: 0.0585 - acc: 0.9817\n",
      "Epoch 7/10\n",
      "60000/60000 [==============================] - 44s 730us/step - loss: 0.0456 - acc: 0.9858\n",
      "Epoch 8/10\n",
      "60000/60000 [==============================] - 43s 714us/step - loss: 0.0355 - acc: 0.9889\n",
      "Epoch 9/10\n",
      "60000/60000 [==============================] - 43s 715us/step - loss: 0.0307 - acc: 0.9896\n",
      "Epoch 10/10\n",
      "60000/60000 [==============================] - 45s 745us/step - loss: 0.0236 - acc: 0.9922\n"
     ]
    }
   ],
   "source": [
    "# 1st hiddden layer\n",
    "f_1 = Dense(784, activation='sigmoid')\n",
    "\n",
    "#此處做一次分枝\n",
    "# 2-1 hiddden layer\n",
    "f_2 = Dense(392, activation='sigmoid')\n",
    "f_3 = Dense(392, activation='sigmoid')\n",
    "\n",
    "# output端\n",
    "f_4 = Dense(10, activation='softmax')\n",
    "\n",
    "# input端\n",
    "x = Input(shape=(784,))\n",
    "\n",
    "h_1 = f_1(x)\n",
    "h_2_1 = f_2(h_1)\n",
    "h_2_2 = f_3(h_1)\n",
    "\n",
    "#將兩分枝匯集\n",
    "u=concatenate([h_2_1,h_2_2])\n",
    "\n",
    "y = f_4(u)\n",
    "\n",
    "model_1 = Model(x, y)\n",
    "\n",
    "Adm=optimizers.Adam(lr=0.001, beta_1=0.9, beta_2=0.999, \n",
    "                epsilon=None, decay=0.0, amsgrad=False)\n",
    "\n",
    "model_1.compile(loss=losses.categorical_crossentropy,\n",
    "              optimizer=Adm,metrics=['accuracy'])\n",
    "\n",
    "model_1_train=model_1.fit(x_train,y_train,batch_size=100,epochs=10)"
   ]
  },
  {
   "cell_type": "markdown",
   "metadata": {},
   "source": [
    "# Model_2：half simoid and half relu"
   ]
  },
  {
   "cell_type": "code",
   "execution_count": 45,
   "metadata": {},
   "outputs": [
    {
     "name": "stdout",
     "output_type": "stream",
     "text": [
      "Epoch 1/10\n",
      "60000/60000 [==============================] - 42s 706us/step - loss: 0.4179 - acc: 0.8767\n",
      "Epoch 2/10\n",
      "60000/60000 [==============================] - 41s 687us/step - loss: 0.1955 - acc: 0.9414\n",
      "Epoch 3/10\n",
      "60000/60000 [==============================] - 42s 700us/step - loss: 0.1312 - acc: 0.9600\n",
      "Epoch 4/10\n",
      "60000/60000 [==============================] - 42s 703us/step - loss: 0.0954 - acc: 0.9705\n",
      "Epoch 5/10\n",
      "60000/60000 [==============================] - 42s 708us/step - loss: 0.0731 - acc: 0.9775\n",
      "Epoch 6/10\n",
      "60000/60000 [==============================] - 43s 714us/step - loss: 0.0575 - acc: 0.9818\n",
      "Epoch 7/10\n",
      "60000/60000 [==============================] - 44s 728us/step - loss: 0.0445 - acc: 0.9855\n",
      "Epoch 8/10\n",
      "60000/60000 [==============================] - 43s 710us/step - loss: 0.0353 - acc: 0.9887\n",
      "Epoch 9/10\n",
      "60000/60000 [==============================] - 43s 709us/step - loss: 0.0292 - acc: 0.9901\n",
      "Epoch 10/10\n",
      "60000/60000 [==============================] - 43s 716us/step - loss: 0.0219 - acc: 0.99291s - \n"
     ]
    }
   ],
   "source": [
    "# 1st hiddden layer\n",
    "f_1 = Dense(784, activation='sigmoid')\n",
    "\n",
    "#此處做一次分枝\n",
    "# 2-1 hiddden layer\n",
    "f_2 = Dense(392, activation='sigmoid')\n",
    "f_3 = Dense(392, activation='relu')\n",
    "\n",
    "# output端\n",
    "f_4 = Dense(10, activation='softmax')\n",
    "\n",
    "# input端\n",
    "x = Input(shape=(784,))\n",
    "\n",
    "h_1 = f_1(x)\n",
    "h_2_1 = f_2(h_1)\n",
    "h_2_2 = f_3(h_1)\n",
    "\n",
    "#將兩分枝匯集\n",
    "u=concatenate([h_2_1,h_2_2])\n",
    "\n",
    "y = f_4(u)\n",
    "\n",
    "model_2 = Model(x, y)\n",
    "\n",
    "Adm=optimizers.Adam(lr=0.001, beta_1=0.9, beta_2=0.999, \n",
    "                epsilon=None, decay=0.0, amsgrad=False)\n",
    "\n",
    "model_2.compile(loss=losses.categorical_crossentropy,\n",
    "              optimizer=Adm,metrics=['accuracy'])\n",
    "\n",
    "model_2_train=model_2.fit(x_train,y_train,batch_size=100,epochs=10)"
   ]
  },
  {
   "cell_type": "markdown",
   "metadata": {},
   "source": [
    "# Model_3 : All relu"
   ]
  },
  {
   "cell_type": "code",
   "execution_count": 46,
   "metadata": {},
   "outputs": [
    {
     "name": "stdout",
     "output_type": "stream",
     "text": [
      "Epoch 1/10\n",
      "60000/60000 [==============================] - 43s 716us/step - loss: 0.4015 - acc: 0.8782\n",
      "Epoch 2/10\n",
      "60000/60000 [==============================] - 42s 699us/step - loss: 0.1856 - acc: 0.9439\n",
      "Epoch 3/10\n",
      "60000/60000 [==============================] - 42s 699us/step - loss: 0.1262 - acc: 0.9618\n",
      "Epoch 4/10\n",
      "60000/60000 [==============================] - 43s 716us/step - loss: 0.0936 - acc: 0.9718\n",
      "Epoch 5/10\n",
      "60000/60000 [==============================] - 42s 708us/step - loss: 0.0721 - acc: 0.9774\n",
      "Epoch 6/10\n",
      "60000/60000 [==============================] - 43s 713us/step - loss: 0.0548 - acc: 0.9823\n",
      "Epoch 7/10\n",
      "60000/60000 [==============================] - 44s 727us/step - loss: 0.0436 - acc: 0.9858\n",
      "Epoch 8/10\n",
      "60000/60000 [==============================] - 42s 706us/step - loss: 0.0340 - acc: 0.9891\n",
      "Epoch 9/10\n",
      "60000/60000 [==============================] - 42s 708us/step - loss: 0.0269 - acc: 0.9908\n",
      "Epoch 10/10\n",
      "60000/60000 [==============================] - 43s 714us/step - loss: 0.0212 - acc: 0.9931\n"
     ]
    }
   ],
   "source": [
    "# 1st hiddden layer\n",
    "f_1 = Dense(784, activation='sigmoid')\n",
    "\n",
    "#此處做一次分枝\n",
    "# 2-1 hiddden layer\n",
    "f_2 = Dense(392, activation='relu')\n",
    "f_3 = Dense(392, activation='relu')\n",
    "\n",
    "# output端\n",
    "f_4 = Dense(10, activation='softmax')\n",
    "\n",
    "# input端\n",
    "x = Input(shape=(784,))\n",
    "\n",
    "h_1 = f_1(x)\n",
    "h_2_1 = f_2(h_1)\n",
    "h_2_2 = f_3(h_1)\n",
    "\n",
    "#將兩分枝匯集\n",
    "u=concatenate([h_2_1,h_2_2])\n",
    "\n",
    "y = f_4(u)\n",
    "\n",
    "model_3 = Model(x, y)\n",
    "\n",
    "Adm=optimizers.Adam(lr=0.001, beta_1=0.9, beta_2=0.999, \n",
    "                epsilon=None, decay=0.0, amsgrad=False)\n",
    "\n",
    "model_3.compile(loss=losses.categorical_crossentropy,\n",
    "              optimizer=Adm,metrics=['accuracy'])\n",
    "\n",
    "model_3_train=model_3.fit(x_train,y_train,batch_size=100,epochs=10)"
   ]
  },
  {
   "cell_type": "markdown",
   "metadata": {},
   "source": [
    "# 比較三種模型的訓練狀況"
   ]
  },
  {
   "cell_type": "code",
   "execution_count": 48,
   "metadata": {},
   "outputs": [
    {
     "data": {
      "image/png": "[encoded data removed]",
      "text/plain": [
       "<Figure size 432x288 with 1 Axes>"
      ]
     },
     "metadata": {},
     "output_type": "display_data"
    }
   ],
   "source": [
    "plt.plot(model_1_train.history[\"acc\"], label='all sigmoid')\n",
    "plt.plot(model_2_train.history[\"acc\"], label='half sigmoid and half relu')\n",
    "plt.plot(model_3_train.history[\"acc\"], label='all relu')\n",
    "plt.legend(loc='best')\n",
    "plt.xlabel('epoch',size=30)\n",
    "plt.ylabel('acc',size=30)\n",
    "plt.title('epoch-acc',size=30)\n",
    "plt.show()"
   ]
  },
  {
   "cell_type": "code",
   "execution_count": 50,
   "metadata": {},
   "outputs": [
    {
     "name": "stdout",
     "output_type": "stream",
     "text": [
      "10000/10000 [==============================] - 3s 262us/step\n",
      "10000/10000 [==============================] - 3s 260us/step\n",
      "10000/10000 [==============================] - 3s 260us/step\n",
      "all sigmoid,acc: 0.9782\n",
      "half sigmoid,acc: 0.9801\n",
      "all relu,acc: 0.9784\n"
     ]
    }
   ],
   "source": [
    "score_1=model_1.evaluate(x_test,y_test)\n",
    "score_2=model_2.evaluate(x_test,y_test)\n",
    "score_3=model_3.evaluate(x_test,y_test)\n",
    "\n",
    "print('all sigmoid,acc:',score_1[1])\n",
    "print('half sigmoid,acc:',score_2[1])\n",
    "print('all relu,acc:',score_3[1])"
   ]
  },
  {
   "cell_type": "markdown",
   "metadata": {},
   "source": [
    "# 結論 :"
   ]
  },
  {
   "cell_type": "markdown",
   "metadata": {},
   "source": [
    "## 在此一結構之神經網路中，分支方法對訓練結果影響不大"
   ]
  }
 ],
 "metadata": {
  "kernelspec": {
   "display_name": "Python 3",
   "language": "python",
   "name": "python3"
  },
  "language_info": {
   "codemirror_mode": {
    "name": "ipython",
    "version": 3
   },
   "file_extension": ".py",
   "mimetype": "text/x-python",
   "name": "python",
   "nbconvert_exporter": "python",
   "pygments_lexer": "ipython3",
   "version": "3.6.5"
  }
 },
 "nbformat": 4,
 "nbformat_minor": 2
}
