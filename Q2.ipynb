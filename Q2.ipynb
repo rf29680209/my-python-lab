{
 "cells": [
  {
   "cell_type": "code",
   "execution_count": 2,
   "metadata": {},
   "outputs": [
    {
     "name": "stderr",
     "output_type": "stream",
     "text": [
      "Using TensorFlow backend.\n"
     ]
    }
   ],
   "source": [
    "import matplotlib.pyplot as plt\n",
    "import numpy as np\n",
    "from ipywidgets import interact\n",
    "from keras.datasets import mnist\n",
    "from keras.utils import np_utils"
   ]
  },
  {
   "cell_type": "code",
   "execution_count": 3,
   "metadata": {},
   "outputs": [],
   "source": [
    "#讀取數據\n",
    "(x_train,y_train),(x_test,y_test)=mnist.load_data()\n",
    "\n",
    "#更改資料格式\n",
    "x_train=x_train.reshape(60000,784)\n",
    "x_test=x_test.reshape(10000,784)\n",
    "\n",
    "#將數據歸一化\n",
    "x_train=x_train/x_train.max()\n",
    "x_test=x_test/x_test.max()\n",
    "\n",
    "y_train=np_utils.to_categorical(y_train,10)\n",
    "y_test=np_utils.to_categorical(y_test,10)"
   ]
  },
  {
   "cell_type": "markdown",
   "metadata": {},
   "source": [
    "# 建立神經網路"
   ]
  },
  {
   "cell_type": "code",
   "execution_count": 4,
   "metadata": {},
   "outputs": [],
   "source": [
    "from keras.models import Sequential\n",
    "from keras.layers import Dense,Activation\n",
    "from keras import optimizers\n",
    "from keras import losses"
   ]
  },
  {
   "cell_type": "code",
   "execution_count": 20,
   "metadata": {},
   "outputs": [],
   "source": [
    "model=Sequential()\n",
    "# input端\n",
    "model.add(Dense(input_dim=784,units=784,activation='sigmoid'))\n",
    "\n",
    "# hiddden layer\n",
    "model.add(Dense(units=784,activation='sigmoid'))\n",
    "\n",
    "# output端\n",
    "model.add(Dense(units=10,activation='softmax'))\n",
    "\n",
    "Adm=optimizers.Adam(lr=0.001, beta_1=0.9, beta_2=0.999, \n",
    "                epsilon=None, decay=0.0, amsgrad=False)\n",
    "\n",
    "model.compile(loss=losses.categorical_crossentropy,\n",
    "              optimizer=Adm,metrics=['accuracy'])"
   ]
  },
  {
   "cell_type": "markdown",
   "metadata": {},
   "source": [
    "# 開始訓練資料"
   ]
  },
  {
   "cell_type": "code",
   "execution_count": 21,
   "metadata": {},
   "outputs": [
    {
     "name": "stdout",
     "output_type": "stream",
     "text": [
      "Epoch 1/30\n",
      "60000/60000 [==============================] - 41s 675us/step - loss: 0.4479 - acc: 0.8647\n",
      "Epoch 2/30\n",
      "60000/60000 [==============================] - 42s 705us/step - loss: 0.1987 - acc: 0.9399\n",
      "Epoch 3/30\n",
      "60000/60000 [==============================] - 40s 670us/step - loss: 0.1369 - acc: 0.9582\n",
      "Epoch 4/30\n",
      "60000/60000 [==============================] - 40s 660us/step - loss: 0.0984 - acc: 0.9704\n",
      "Epoch 5/30\n",
      "60000/60000 [==============================] - 40s 673us/step - loss: 0.0735 - acc: 0.9774\n",
      "Epoch 6/30\n",
      "60000/60000 [==============================] - 40s 661us/step - loss: 0.0572 - acc: 0.9818\n",
      "Epoch 7/30\n",
      "60000/60000 [==============================] - 40s 666us/step - loss: 0.0458 - acc: 0.98520s - loss: 0.0458 - \n",
      "Epoch 8/30\n",
      "60000/60000 [==============================] - 39s 658us/step - loss: 0.0345 - acc: 0.9893\n",
      "Epoch 9/30\n",
      "60000/60000 [==============================] - 40s 668us/step - loss: 0.0280 - acc: 0.9913\n",
      "Epoch 10/30\n",
      "60000/60000 [==============================] - 40s 660us/step - loss: 0.0225 - acc: 0.99272s - loss: 0.0225 - acc: 0.99 - ETA: \n",
      "Epoch 11/30\n",
      "60000/60000 [==============================] - 40s 663us/step - loss: 0.0176 - acc: 0.9942\n",
      "Epoch 12/30\n",
      "60000/60000 [==============================] - 40s 665us/step - loss: 0.0132 - acc: 0.9959\n",
      "Epoch 13/30\n",
      "60000/60000 [==============================] - 40s 674us/step - loss: 0.0122 - acc: 0.99601s - los\n",
      "Epoch 14/30\n",
      "60000/60000 [==============================] - 40s 662us/step - loss: 0.0133 - acc: 0.9955\n",
      "Epoch 15/30\n",
      "60000/60000 [==============================] - 40s 669us/step - loss: 0.0071 - acc: 0.9979\n",
      "Epoch 16/30\n",
      "60000/60000 [==============================] - 40s 672us/step - loss: 0.0061 - acc: 0.9981\n",
      "Epoch 17/30\n",
      "60000/60000 [==============================] - 40s 670us/step - loss: 0.0076 - acc: 0.9973\n",
      "Epoch 18/30\n",
      "60000/60000 [==============================] - 40s 671us/step - loss: 0.0084 - acc: 0.9974\n",
      "Epoch 19/30\n",
      "60000/60000 [==============================] - 40s 669us/step - loss: 0.0036 - acc: 0.9990\n",
      "Epoch 20/30\n",
      "60000/60000 [==============================] - 40s 668us/step - loss: 0.0094 - acc: 0.99651s - loss\n",
      "Epoch 21/30\n",
      "60000/60000 [==============================] - 40s 671us/step - loss: 0.0047 - acc: 0.9985\n",
      "Epoch 22/30\n",
      "60000/60000 [==============================] - 40s 668us/step - loss: 0.0049 - acc: 0.9984\n",
      "Epoch 23/30\n",
      "60000/60000 [==============================] - 42s 694us/step - loss: 0.0021 - acc: 0.9995\n",
      "Epoch 24/30\n",
      "60000/60000 [==============================] - 42s 704us/step - loss: 0.0062 - acc: 0.9981\n",
      "Epoch 25/30\n",
      "60000/60000 [==============================] - 42s 704us/step - loss: 0.0049 - acc: 0.9984\n",
      "Epoch 26/30\n",
      "60000/60000 [==============================] - 41s 688us/step - loss: 0.0023 - acc: 0.99940s - loss: 0.0023 - acc: 0\n",
      "Epoch 27/30\n",
      "60000/60000 [==============================] - 43s 715us/step - loss: 0.0016 - acc: 0.9996\n",
      "Epoch 28/30\n",
      "60000/60000 [==============================] - 43s 711us/step - loss: 0.0043 - acc: 0.9985\n",
      "Epoch 29/30\n",
      "60000/60000 [==============================] - 39s 650us/step - loss: 0.0061 - acc: 0.9981\n",
      "Epoch 30/30\n",
      "60000/60000 [==============================] - 44s 742us/step - loss: 0.0032 - acc: 0.9993\n"
     ]
    }
   ],
   "source": [
    "model_train=model.fit(x_train,y_train,batch_size=100,epochs=30)"
   ]
  },
  {
   "cell_type": "code",
   "execution_count": 22,
   "metadata": {},
   "outputs": [
    {
     "data": {
      "text/plain": [
       "Text(0.5,1,'epoch-acc')"
      ]
     },
     "execution_count": 22,
     "metadata": {},
     "output_type": "execute_result"
    },
    {
     "data": {
      "image/png": "[encoded data removed]",
      "text/plain": [
       "<Figure size 432x288 with 1 Axes>"
      ]
     },
     "metadata": {},
     "output_type": "display_data"
    }
   ],
   "source": [
    "plt.plot(model_train.history[\"acc\"])\n",
    "plt.xlabel('epoch',size=30)\n",
    "plt.ylabel('acc',size=30)\n",
    "plt.title('epoch-acc',size=30)"
   ]
  },
  {
   "cell_type": "markdown",
   "metadata": {},
   "source": [
    "# 利用testing data，檢驗測試結果"
   ]
  },
  {
   "cell_type": "code",
   "execution_count": 23,
   "metadata": {},
   "outputs": [
    {
     "name": "stdout",
     "output_type": "stream",
     "text": [
      "10000/10000 [==============================] - 4s 439us/step\n",
      "loss 0.1060316990152567\n",
      "acc 0.9813\n"
     ]
    }
   ],
   "source": [
    "score=model.evaluate(x_test,y_test)\n",
    "print('loss',score[0])\n",
    "print('acc',score[1])"
   ]
  },
  {
   "cell_type": "code",
   "execution_count": 30,
   "metadata": {},
   "outputs": [],
   "source": [
    "predict=model.predict_classes(x_test)"
   ]
  },
  {
   "cell_type": "code",
   "execution_count": 33,
   "metadata": {},
   "outputs": [],
   "source": [
    "def test(測試編號):\n",
    "    plt.imshow(x_test[測試編號].reshape(28,28),cmap='Greys')\n",
    "    print('神經網路判斷為:',predict[測試編號])\n",
    "    print('正確解答為:',y_test[測試編號])"
   ]
  },
  {
   "cell_type": "code",
   "execution_count": 34,
   "metadata": {},
   "outputs": [
    {
     "data": {
      "application/vnd.jupyter.widget-view+json": {
       "model_id": "855cfea26ff64ec8a8c508268224a1e4",
       "version_major": 2,
       "version_minor": 0
      },
      "text/plain": [
       "interactive(children=(IntSlider(value=5000, description='測試編號', max=9999, min=1), Output()), _dom_classes=('wi…"
      ]
     },
     "metadata": {},
     "output_type": "display_data"
    },
    {
     "data": {
      "text/plain": [
       "<function __main__.test(測試編號)>"
      ]
     },
     "execution_count": 34,
     "metadata": {},
     "output_type": "execute_result"
    }
   ],
   "source": [
    "interact (test,測試編號=(1,9999))"
   ]
  },
  {
   "cell_type": "markdown",
   "metadata": {},
   "source": [
    "# 儲存訓練結果"
   ]
  },
  {
   "cell_type": "code",
   "execution_count": 167,
   "metadata": {},
   "outputs": [],
   "source": [
    "model.json=model.to_json()\n",
    "open('98%_model.json','w').write(model.json)\n",
    "model.save_weights('98%_model_weights.h5')"
   ]
  },
  {
   "cell_type": "code",
   "execution_count": null,
   "metadata": {},
   "outputs": [],
   "source": []
  }
 ],
 "metadata": {
  "kernelspec": {
   "display_name": "Python 3",
   "language": "python",
   "name": "python3"
  },
  "language_info": {
   "codemirror_mode": {
    "name": "ipython",
    "version": 3
   },
   "file_extension": ".py",
   "mimetype": "text/x-python",
   "name": "python",
   "nbconvert_exporter": "python",
   "pygments_lexer": "ipython3",
   "version": "3.6.5"
  }
 },
 "nbformat": 4,
 "nbformat_minor": 2
}
