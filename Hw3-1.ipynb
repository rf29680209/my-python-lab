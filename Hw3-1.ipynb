{
 "cells": [
  {
   "cell_type": "code",
   "execution_count": 5,
   "metadata": {},
   "outputs": [],
   "source": [
    "import matplotlib.pyplot as plt\n",
    "import numpy as np"
   ]
  },
  {
   "cell_type": "code",
   "execution_count": null,
   "metadata": {},
   "outputs": [],
   "source": [
    "f_size=4\n",
    "\n",
    "plt.figure(figsize=(f_size, f_size))\n",
    "\n",
    "x=np.linspace(0,8,9)\n",
    "y=np.linspace(0,8,9)\n",
    "\n",
    "#draw grids\n",
    "for i in range(0,9):\n",
    "    plt.plot([i+0.5,i+0.5],[0.5,8.5],'k')\n",
    "    plt.plot([0.5,8.5],[i+0.5,i+0.5],'k')\n",
    "\n",
    "plt.xlim(0.5,8.5)\n",
    "plt.ylim(0.5,8.5)\n",
    "\n",
    "\n",
    "plt.scatter([4],[4],color='black',s=f_size*50)\n",
    "plt.scatter([5],[5],color='black',s=f_size*50)\n",
    "plt.scatter([5],[4],color='white',s=f_size*50)\n",
    "plt.scatter([4],[5],color='white',s=f_size*50)\n",
    "ax = plt.gca()\n",
    "ax.set_facecolor('khaki')\n",
    "\n",
    "#black=1,white=2\n",
    "\n",
    "situation=np.zeros([8,8])\n",
    "situation[3,7-3]=1\n",
    "situation[4,7-4]=1\n",
    "situation[3,7-4]=2\n",
    "situation[4,7-3]=2\n"
   ]
  },
  {
   "cell_type": "code",
   "execution_count": null,
   "metadata": {},
   "outputs": [],
   "source": []
  }
 ],
 "metadata": {
  "kernelspec": {
   "display_name": "Python 3",
   "language": "python",
   "name": "python3"
  },
  "language_info": {
   "codemirror_mode": {
    "name": "ipython",
    "version": 3
   },
   "file_extension": ".py",
   "mimetype": "text/x-python",
   "name": "python",
   "nbconvert_exporter": "python",
   "pygments_lexer": "ipython3",
   "version": "3.6.5"
  }
 },
 "nbformat": 4,
 "nbformat_minor": 2
}
